{
  "nbformat": 4,
  "nbformat_minor": 0,
  "metadata": {
    "colab": {
      "name": "Декорат.ipynb",
      "provenance": [],
      "authorship_tag": "ABX9TyPm1hU+haZy908GpO7cT5Td",
      "include_colab_link": true
    },
    "kernelspec": {
      "name": "python3",
      "display_name": "Python 3"
    }
  },
  "cells": [
    {
      "cell_type": "markdown",
      "metadata": {
        "id": "view-in-github",
        "colab_type": "text"
      },
      "source": [
        "<a href=\"https://colab.research.google.com/github/Ovchinnikova111/oop/blob/master/%D0%94%D0%B5%D0%BA%D0%BE%D1%80%D0%B0%D1%82.ipynb\" target=\"_parent\"><img src=\"https://colab.research.google.com/assets/colab-badge.svg\" alt=\"Open In Colab\"/></a>"
      ]
    },
    {
      "cell_type": "markdown",
      "metadata": {
        "id": "kyQPTKpXAZVh",
        "colab_type": "text"
      },
      "source": [
        "#Задание 1"
      ]
    },
    {
      "cell_type": "code",
      "metadata": {
        "id": "ILFeSh7aXtrM",
        "colab_type": "code",
        "outputId": "55574e16-b05a-484d-a587-bc30f6b3c9d2",
        "colab": {
          "base_uri": "https://localhost:8080/",
          "height": 255
        }
      },
      "source": [
        "def sum2(func):\n",
        "  def how(sp):\n",
        "    y=0\n",
        "    y=func(sp)\n",
        "    if y>10:\n",
        "      print(\"Очень много\")\n",
        "    elif y==0:\n",
        "      print(\"Нету(\")\n",
        "    else:\n",
        "      print(\"Четных чисел - \",y)\n",
        "  return how\n",
        "\n",
        "@sum2\n",
        "def sum(sp):\n",
        "  x=0\n",
        "  for i in sp:\n",
        "    if (i%2 == 0):\n",
        "      x += 1\n",
        "  return x   \n",
        "\n",
        "\n",
        "x=int(input(\"Введите 1-е число: \"))\n",
        "z = list()\n",
        "i=1\n",
        "while x != 0:\n",
        "    z.append(x)\n",
        "    i +=1\n",
        "    x=int(input(\"Введите {}-е число: \".format(i)))\n",
        "\n",
        "sum(z)"
      ],
      "execution_count": 2,
      "outputs": [
        {
          "output_type": "stream",
          "text": [
            "Введите 1-е число: 44547\n",
            "Введите 2-е число: 667\n",
            "Введите 3-е число: 34\n",
            "Введите 4-е число: 29\n",
            "Введите 5-е число: 85\n",
            "Введите 6-е число: 22\n",
            "Введите 7-е число: 28\n",
            "Введите 8-е число: 20\n",
            "Введите 9-е число: 40\n",
            "Введите 10-е число: 60\n",
            "Введите 11-е число: 22\n",
            "Введите 12-е число: 1235\n",
            "Введите 13-е число: 0\n",
            "Четных чисел -  7\n"
          ],
          "name": "stdout"
        }
      ]
    },
    {
      "cell_type": "markdown",
      "metadata": {
        "id": "SAhPkSw7AgRX",
        "colab_type": "text"
      },
      "source": [
        "# Задание 2"
      ]
    },
    {
      "cell_type": "code",
      "metadata": {
        "id": "NFkTxYXE_1e4",
        "colab_type": "code",
        "colab": {
          "base_uri": "https://localhost:8080/",
          "height": 34
        },
        "outputId": "3a58c380-3b44-4ef9-a441-bb5cb58a19d7"
      },
      "source": [
        "def decorator(func):\n",
        "  def vid(self,other):\n",
        "    C=func(self,other)\n",
        "    print(\"(\",self.x,\",\",self.y,\") + (\",other.x,\",\",other.y,\") = (\",C.x,\",\",C.y,\")\")\n",
        "  return vid\n",
        "\n",
        "class Vector:\n",
        "    def __init__(self, x = 0, y = 0):\n",
        "        self.x = x\n",
        "        self.y = y\n",
        "    @decorator\n",
        "    def __add__(self, other):\n",
        "        return Vector(self.x + other.x, self.y + other.y)\n",
        "\n",
        "A = Vector(1, 2)\n",
        "B = Vector(3, -1)\n",
        "C = A + B"
      ],
      "execution_count": 3,
      "outputs": [
        {
          "output_type": "stream",
          "text": [
            "( 1 , 2 ) + ( 3 , -1 ) = ( 4 , 1 )\n"
          ],
          "name": "stdout"
        }
      ]
    },
    {
      "cell_type": "markdown",
      "metadata": {
        "id": "aHVsazI2AjNQ",
        "colab_type": "text"
      },
      "source": [
        "#Пример 1"
      ]
    },
    {
      "cell_type": "code",
      "metadata": {
        "id": "xaaqm3cQ_1o8",
        "colab_type": "code",
        "colab": {
          "base_uri": "https://localhost:8080/",
          "height": 248
        },
        "outputId": "011df305-67eb-44a5-e08a-99d161fc1569"
      },
      "source": [
        "class TestClass:\n",
        "\n",
        "    def __init__(self):\n",
        "        self.public_variable = \"I'm public!\"\n",
        "        self.__private_variable = \"I'm too shy to be public!\"\n",
        "\n",
        "    def get_public_variable(self):\n",
        "        return self.public_variable\n",
        "\n",
        "    def get_private_variable(self):\n",
        "        return self.__private_variable\n",
        "\n",
        "if __name__ == \"__main__\":\n",
        "    test_class = TestClass()\n",
        "    print(\" \".join([\"Public variable:\", test_class.get_public_variable()]))\n",
        "    print(\" \".join([\"Public variable:\", test_class.public_variable]))\n",
        "\n",
        "    print(\" \".join([\"Private variable:\", test_class.get_private_variable()]))\n",
        "    print(\" \".join([\"Private variable:\", test_class._private_variable]))"
      ],
      "execution_count": 7,
      "outputs": [
        {
          "output_type": "stream",
          "text": [
            "Public variable: I'm public!\n",
            "Public variable: I'm public!\n",
            "Private variable: I'm too shy to be public!\n"
          ],
          "name": "stdout"
        },
        {
          "output_type": "error",
          "ename": "AttributeError",
          "evalue": "ignored",
          "traceback": [
            "\u001b[0;31m---------------------------------------------------------------------------\u001b[0m",
            "\u001b[0;31mAttributeError\u001b[0m                            Traceback (most recent call last)",
            "\u001b[0;32m<ipython-input-7-b54941b0f4fd>\u001b[0m in \u001b[0;36m<module>\u001b[0;34m()\u001b[0m\n\u001b[1;32m     17\u001b[0m \u001b[0;34m\u001b[0m\u001b[0m\n\u001b[1;32m     18\u001b[0m     \u001b[0mprint\u001b[0m\u001b[0;34m(\u001b[0m\u001b[0;34m\" \"\u001b[0m\u001b[0;34m.\u001b[0m\u001b[0mjoin\u001b[0m\u001b[0;34m(\u001b[0m\u001b[0;34m[\u001b[0m\u001b[0;34m\"Private variable:\"\u001b[0m\u001b[0;34m,\u001b[0m \u001b[0mtest_class\u001b[0m\u001b[0;34m.\u001b[0m\u001b[0mget_private_variable\u001b[0m\u001b[0;34m(\u001b[0m\u001b[0;34m)\u001b[0m\u001b[0;34m]\u001b[0m\u001b[0;34m)\u001b[0m\u001b[0;34m)\u001b[0m\u001b[0;34m\u001b[0m\u001b[0;34m\u001b[0m\u001b[0m\n\u001b[0;32m---> 19\u001b[0;31m     \u001b[0mprint\u001b[0m\u001b[0;34m(\u001b[0m\u001b[0;34m\" \"\u001b[0m\u001b[0;34m.\u001b[0m\u001b[0mjoin\u001b[0m\u001b[0;34m(\u001b[0m\u001b[0;34m[\u001b[0m\u001b[0;34m\"Private variable:\"\u001b[0m\u001b[0;34m,\u001b[0m \u001b[0mtest_class\u001b[0m\u001b[0;34m.\u001b[0m\u001b[0m_private_variable\u001b[0m\u001b[0;34m]\u001b[0m\u001b[0;34m)\u001b[0m\u001b[0;34m)\u001b[0m\u001b[0;34m\u001b[0m\u001b[0;34m\u001b[0m\u001b[0m\n\u001b[0m",
            "\u001b[0;31mAttributeError\u001b[0m: 'TestClass' object has no attribute '_private_variable'"
          ]
        }
      ]
    },
    {
      "cell_type": "markdown",
      "metadata": {
        "id": "2RQSrp4SAmfH",
        "colab_type": "text"
      },
      "source": [
        "#Пример 2"
      ]
    },
    {
      "cell_type": "code",
      "metadata": {
        "id": "aw4JrKSLARUK",
        "colab_type": "code",
        "colab": {}
      },
      "source": [
        "class UniversityMember:\n",
        "    passToUniversity = ''\n",
        "    status = True\n",
        "\n",
        "    def checkStatus(self):\n",
        "        return self.status\n",
        "\n",
        "    def dismiss(self):\n",
        "        self.status = False\n",
        "        self.pass_to_university = None\n",
        "        \n",
        "class Student(UniversityMember):\n",
        "    group = None\n",
        "\n",
        "class Teacher(UniversityMember):\n",
        "    cathedral = None\n",
        "\n",
        "class Administrator(UniversityMember):\n",
        "    pass"
      ],
      "execution_count": 0,
      "outputs": []
    },
    {
      "cell_type": "markdown",
      "metadata": {
        "id": "BvHmCg_5AonH",
        "colab_type": "text"
      },
      "source": [
        "#Пример 3"
      ]
    },
    {
      "cell_type": "code",
      "metadata": {
        "id": "MuXYE2cSATxr",
        "colab_type": "code",
        "colab": {
          "base_uri": "https://localhost:8080/",
          "height": 68
        },
        "outputId": "616380b3-ff17-429f-8ed1-85d21ff4fcf2"
      },
      "source": [
        "class Person:\n",
        "    def __init__(self, name, age):\n",
        "        self.name = name\n",
        "        self.age = age\n",
        "\n",
        "    # classmethod чтобы создать объект по году рождения,\n",
        "    # \"альтернативный\" конструктор\n",
        "    @classmethod\n",
        "    def fromBirthYear(cls, name, year):\n",
        "        return cls(name, 2020 - year)\n",
        "\n",
        "    # статический метод,чтобы проверить совершеннолетие\n",
        "    @staticmethod\n",
        "    def isAdult(age):\n",
        "        return age > 18\n",
        "\n",
        "person1 = Person('Петя', 21)\n",
        "person2 = Person.fromBirthYear('Петя', 1996)\n",
        "\n",
        "print(person1.age)\n",
        "print(person2.age)\n",
        "\n",
        "# print the result\n",
        "print(Person.isAdult(22))"
      ],
      "execution_count": 4,
      "outputs": [
        {
          "output_type": "stream",
          "text": [
            "21\n",
            "24\n",
            "True\n"
          ],
          "name": "stdout"
        }
      ]
    }
  ]
}